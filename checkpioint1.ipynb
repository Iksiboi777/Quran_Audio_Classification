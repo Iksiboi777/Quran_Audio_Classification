{
 "cells": [
  {
   "cell_type": "code",
   "execution_count": null,
   "id": "d89fedaa",
   "metadata": {},
   "outputs": [
    {
     "name": "stdout",
     "output_type": "stream",
     "text": [
      "Successfully loaded data splits.\n",
      "Training samples: 3791\n",
      "\n",
      "Successfully loaded project parameters. Optimal gap is 5.\n",
      "Label mapping loaded: {'AbdulBari_Althubaity': 0, 'AbdulRahman_Alsudais': 1, 'Abdullah_Albuaijan': 2, 'Ali_Alhothaify': 3, 'Bander_Balilah': 4, 'Maher_Almuaiqly': 5, 'Mohammed_Aluhaidan': 6, 'Mohammed_Ayoub': 7, 'Nasser_Alqutami': 8, 'Saad_Alghamdi': 9, 'Saud_Alshuraim': 10, 'Yasser_Aldossary': 11}\n"
     ]
    }
   ],
   "source": [
    "import pandas as pd\n",
    "import json\n",
    "import plotly.io as pio\n",
    "\n",
    "# --- Load Data Splits ---\n",
    "train_df = pd.read_csv('train_split.csv')\n",
    "val_df = pd.read_csv('val_split.csv')\n",
    "test_df = pd.read_csv('test_split.csv')\n",
    "\n",
    "cleaned_df = pd.read_csv('cleaned_df.csv')\n",
    "df_tsne = pd.read_csv('tsne.csv')\n",
    "print(\"Successfully loaded data splits.\")\n",
    "print(f\"Training samples: {len(train_df)}\")\n",
    "\n",
    "# --- Load Project Parameters ---\n",
    "with open('project_parameters.json', 'r') as f:\n",
    "    params = json.load(f)\n",
    "\n",
    "# You can now access the parameters like this:\n",
    "optimal_gap = params['optimal_gap']\n",
    "label_to_int = params['label_to_int']\n",
    "# Create the reverse mapping if needed\n",
    "int_to_label = {int(i): label for label, i in label_to_int.items()}\n",
    "\n",
    "print(f\"\\nSuccessfully loaded project parameters. Optimal gap is {optimal_gap}.\")\n",
    "print(\"Label mapping loaded:\", label_to_int)\n",
    "\n",
    "# --- Load and Display a Saved Plot (Optional) ---\n",
    "# You can simply open the 'tsne_visualization.html' file in your browser\n",
    "# to view the interactive plot."
   ]
  }
 ],
 "metadata": {
  "kernelspec": {
   "display_name": "dipl_pro_venv",
   "language": "python",
   "name": "python3"
  },
  "language_info": {
   "codemirror_mode": {
    "name": "ipython",
    "version": 3
   },
   "file_extension": ".py",
   "mimetype": "text/x-python",
   "name": "python",
   "nbconvert_exporter": "python",
   "pygments_lexer": "ipython3",
   "version": "3.9.2"
  }
 },
 "nbformat": 4,
 "nbformat_minor": 5
}
